{
  "nbformat": 4,
  "nbformat_minor": 0,
  "metadata": {
    "kernelspec": {
      "display_name": "Python 3",
      "language": "python",
      "name": "python3"
    },
    "language_info": {
      "codemirror_mode": {
        "name": "ipython",
        "version": 3
      },
      "file_extension": ".py",
      "mimetype": "text/x-python",
      "name": "python",
      "nbconvert_exporter": "python",
      "pygments_lexer": "ipython3",
      "version": "3.8.5"
    },
    "colab": {
      "name": "exex1.ipynb",
      "provenance": []
    }
  },
  "cells": [
    {
      "cell_type": "code",
      "metadata": {
        "colab": {
          "base_uri": "https://localhost:8080/"
        },
        "id": "YPWKvhVLW9lh",
        "outputId": "84eba2d5-25d5-48ef-919c-a766a26bcecf"
      },
      "source": [
        "x = 1\n",
        "type(x)"
      ],
      "execution_count": 1,
      "outputs": [
        {
          "output_type": "execute_result",
          "data": {
            "text/plain": [
              "int"
            ]
          },
          "metadata": {
            "tags": []
          },
          "execution_count": 1
        }
      ]
    },
    {
      "cell_type": "code",
      "metadata": {
        "id": "9-7yssXwW9l9",
        "outputId": "3556dd4c-01ce-4953-cf51-457f0db987df"
      },
      "source": [
        "x = 1.0\n",
        "type(x)"
      ],
      "execution_count": null,
      "outputs": [
        {
          "output_type": "execute_result",
          "data": {
            "text/plain": [
              "float"
            ]
          },
          "metadata": {
            "tags": []
          },
          "execution_count": 4
        }
      ]
    },
    {
      "cell_type": "code",
      "metadata": {
        "id": "3BKUilp5W9mA",
        "outputId": "cec99876-7118-4129-d650-15bdded1e79b"
      },
      "source": [
        "b1 = True\n",
        "b2 = False\n",
        "\n",
        "type(b1)"
      ],
      "execution_count": null,
      "outputs": [
        {
          "output_type": "execute_result",
          "data": {
            "text/plain": [
              "bool"
            ]
          },
          "metadata": {
            "tags": []
          },
          "execution_count": 7
        }
      ]
    },
    {
      "cell_type": "code",
      "metadata": {
        "id": "q8DaK_8vW9mB",
        "outputId": "dc43ab71-4b53-42d0-85a2-3cc44ad23b26"
      },
      "source": [
        "name1 = 'your name'\n",
        "type(name1)"
      ],
      "execution_count": null,
      "outputs": [
        {
          "output_type": "execute_result",
          "data": {
            "text/plain": [
              "str"
            ]
          },
          "metadata": {
            "tags": []
          },
          "execution_count": 8
        }
      ]
    },
    {
      "cell_type": "code",
      "metadata": {
        "id": "thKKUwuTW9mD",
        "outputId": "5092f296-4dd3-4d8b-ab27-2b77184821c6"
      },
      "source": [
        "x = 1 - 2.0j\n",
        "princ=2-3j\n",
        "# type(x)\n",
        "type(princ)"
      ],
      "execution_count": null,
      "outputs": [
        {
          "output_type": "execute_result",
          "data": {
            "text/plain": [
              "complex"
            ]
          },
          "metadata": {
            "tags": []
          },
          "execution_count": 14
        }
      ]
    },
    {
      "cell_type": "code",
      "metadata": {
        "scrolled": true,
        "id": "Q2o3F0ZMW9mF",
        "outputId": "b606d92b-ab7b-4768-f174-b3c8a9f45d1b"
      },
      "source": [
        "print(x)\n",
        "print(princ)"
      ],
      "execution_count": null,
      "outputs": [
        {
          "output_type": "stream",
          "text": [
            "(1-2j)\n",
            "(2-3j)\n"
          ],
          "name": "stdout"
        }
      ]
    },
    {
      "cell_type": "code",
      "metadata": {
        "scrolled": true,
        "id": "zOO6x_gtW9mH",
        "outputId": "6f507ef9-64d9-4ce5-8f2c-7b61e4cd1de3"
      },
      "source": [
        "print(x.real, x.imag)\n",
        "# print(princ.img)\n",
        "print(princ.real)"
      ],
      "execution_count": null,
      "outputs": [
        {
          "output_type": "stream",
          "text": [
            "1.0 -2.0\n",
            "2.0\n"
          ],
          "name": "stdout"
        }
      ]
    },
    {
      "cell_type": "code",
      "metadata": {
        "id": "MvXKC60kW9mI",
        "outputId": "2c379353-c2f6-435c-8d1e-84038bf7cced"
      },
      "source": [
        "tenth = 10\n",
        "two = 2\n",
        "print(tenth)\n",
        "# two\n",
        "print(two)\n",
        "tenth\n",
        "x=5\n",
        "x\n",
        "type(x)"
      ],
      "execution_count": null,
      "outputs": [
        {
          "output_type": "stream",
          "text": [
            "10\n",
            "2\n"
          ],
          "name": "stdout"
        },
        {
          "output_type": "execute_result",
          "data": {
            "text/plain": [
              "5"
            ]
          },
          "metadata": {
            "tags": []
          },
          "execution_count": 27
        }
      ]
    },
    {
      "cell_type": "code",
      "metadata": {
        "colab": {
          "base_uri": "https://localhost:8080/"
        },
        "id": "reCeYoRsW9mK",
        "outputId": "68fb0560-6cfa-45a1-c699-544618f5d24a"
      },
      "source": [
        "ten = 10\n",
        "ten\n",
        "type(ten)\n",
        "ten=\"abhinav\"\n",
        "type(ten)"
      ],
      "execution_count": 5,
      "outputs": [
        {
          "output_type": "execute_result",
          "data": {
            "text/plain": [
              "str"
            ]
          },
          "metadata": {
            "tags": []
          },
          "execution_count": 5
        }
      ]
    },
    {
      "cell_type": "code",
      "metadata": {
        "id": "7Zxp5WclW9mL",
        "outputId": "b30fe364-d626-4f3a-f5dd-6c0a76eabc60"
      },
      "source": [
        "ten = 'ten'\n",
        "ten\n",
        "type(ten)\n",
        "print(ten)\n",
        "ten=1.0\n",
        "type(ten)\n",
        "print(ten)"
      ],
      "execution_count": null,
      "outputs": [
        {
          "output_type": "stream",
          "text": [
            "ten\n",
            "1.0\n"
          ],
          "name": "stdout"
        }
      ]
    },
    {
      "cell_type": "code",
      "metadata": {
        "id": "x2CNAs3zW9mN",
        "outputId": "6ac49fcc-6f4d-4e11-cb10-01bb1b5a8dc6"
      },
      "source": [
        "'Day' + '1'\n",
        "\n"
      ],
      "execution_count": null,
      "outputs": [
        {
          "output_type": "execute_result",
          "data": {
            "text/plain": [
              "'Day1'"
            ]
          },
          "metadata": {
            "tags": []
          },
          "execution_count": 36
        }
      ]
    },
    {
      "cell_type": "code",
      "metadata": {
        "id": "n4q5GFbOW9mO",
        "outputId": "5f1ce8cf-ed25-409a-8b27-95e71b4029da"
      },
      "source": [
        "'Day ' + str(1)"
      ],
      "execution_count": null,
      "outputs": [
        {
          "output_type": "execute_result",
          "data": {
            "text/plain": [
              "'Day 1'"
            ]
          },
          "metadata": {
            "tags": []
          },
          "execution_count": 37
        }
      ]
    },
    {
      "cell_type": "code",
      "metadata": {
        "id": "LyFH6sZbW9mP",
        "outputId": "68356818-d26b-4084-8d2e-9b53d50152ec"
      },
      "source": [
        "True and True"
      ],
      "execution_count": null,
      "outputs": [
        {
          "output_type": "execute_result",
          "data": {
            "text/plain": [
              "True"
            ]
          },
          "metadata": {
            "tags": []
          },
          "execution_count": 41
        }
      ]
    },
    {
      "cell_type": "code",
      "metadata": {
        "id": "0BAk-LavW9mQ",
        "outputId": "e33e2f0e-4d8c-4605-c31d-ade57cc20c9c"
      },
      "source": [
        "True or False"
      ],
      "execution_count": null,
      "outputs": [
        {
          "output_type": "execute_result",
          "data": {
            "text/plain": [
              "True"
            ]
          },
          "metadata": {
            "tags": []
          },
          "execution_count": 39
        }
      ]
    },
    {
      "cell_type": "code",
      "metadata": {
        "id": "o8B7FLi5W9mR",
        "outputId": "afe6997e-d8ac-4a2b-98f1-f40904d3899e"
      },
      "source": [
        "not True"
      ],
      "execution_count": null,
      "outputs": [
        {
          "output_type": "execute_result",
          "data": {
            "text/plain": [
              "False"
            ]
          },
          "metadata": {
            "tags": []
          },
          "execution_count": 40
        }
      ]
    },
    {
      "cell_type": "code",
      "metadata": {
        "id": "o_hxXBBCW9mT"
      },
      "source": [
        "not False"
      ],
      "execution_count": null,
      "outputs": []
    },
    {
      "cell_type": "code",
      "metadata": {
        "id": "mgdiWa8ZW9mU"
      },
      "source": [
        "True is True"
      ],
      "execution_count": null,
      "outputs": []
    },
    {
      "cell_type": "code",
      "metadata": {
        "id": "N3sze3Z9W9mU"
      },
      "source": [
        "True is False"
      ],
      "execution_count": null,
      "outputs": []
    },
    {
      "cell_type": "code",
      "metadata": {
        "id": "lmOxNoe6W9mV",
        "outputId": "785056e9-f79f-4794-a31a-8550922e8b7f"
      },
      "source": [
        "'a' is 'a'\n"
      ],
      "execution_count": null,
      "outputs": [
        {
          "output_type": "stream",
          "text": [
            "<>:1: SyntaxWarning: \"is\" with a literal. Did you mean \"==\"?\n",
            "<>:1: SyntaxWarning: \"is\" with a literal. Did you mean \"==\"?\n",
            "<ipython-input-42-e2fa3e0bad77>:1: SyntaxWarning: \"is\" with a literal. Did you mean \"==\"?\n",
            "  'a' is 'a'\n"
          ],
          "name": "stderr"
        },
        {
          "output_type": "execute_result",
          "data": {
            "text/plain": [
              "True"
            ]
          },
          "metadata": {
            "tags": []
          },
          "execution_count": 42
        }
      ]
    },
    {
      "cell_type": "code",
      "metadata": {
        "id": "4y-uunyWW9mX",
        "outputId": "b77437c0-4484-4610-b919-90d35f0cd454"
      },
      "source": [
        "i = 3\n",
        "if i < 3:\n",
        "    print('less than 3')\n",
        "elif i < 5:\n",
        "    print('less than 5')\n",
        "else:\n",
        "    print('5 or more')\n"
      ],
      "execution_count": null,
      "outputs": [
        {
          "output_type": "stream",
          "text": [
            "less than 5\n"
          ],
          "name": "stdout"
        }
      ]
    },
    {
      "cell_type": "code",
      "metadata": {
        "id": "8hSpkO2cW9mY",
        "outputId": "b24b638c-9eaf-4a99-da1c-a889074afc7a"
      },
      "source": [
        "x = 10\n",
        "y = 10\n",
        "if x < y:\n",
        "    print(x)\n",
        "elif y < x:\n",
        "    print(y)\n",
        "else:\n",
        "    print('no are equal')"
      ],
      "execution_count": null,
      "outputs": [
        {
          "output_type": "stream",
          "text": [
            "no are equal\n"
          ],
          "name": "stdout"
        }
      ]
    },
    {
      "cell_type": "code",
      "metadata": {
        "id": "53mTlmd7W9mZ",
        "outputId": "1fbcfce5-9598-4b62-e79f-6674b668ffbc"
      },
      "source": [
        "l = []\n",
        "l"
      ],
      "execution_count": null,
      "outputs": [
        {
          "output_type": "execute_result",
          "data": {
            "text/plain": [
              "[]"
            ]
          },
          "metadata": {
            "tags": []
          },
          "execution_count": 51
        }
      ]
    },
    {
      "cell_type": "code",
      "metadata": {
        "id": "ZSLaMq3bW9ma",
        "outputId": "590586ee-0b0b-4f9a-ecf4-5c40a5e2d0f3"
      },
      "source": [
        "l = list()\n",
        "l"
      ],
      "execution_count": null,
      "outputs": [
        {
          "output_type": "execute_result",
          "data": {
            "text/plain": [
              "[]"
            ]
          },
          "metadata": {
            "tags": []
          },
          "execution_count": 50
        }
      ]
    },
    {
      "cell_type": "code",
      "metadata": {
        "colab": {
          "base_uri": "https://localhost:8080/"
        },
        "id": "yVccPJi8W9mb",
        "outputId": "1d9bfa74-2446-4170-dda2-197a9a0b2836"
      },
      "source": [
        "l = ['a', 'b', 'c']\n",
        "print(l)\n",
        "type(l)\n",
        "x = ['1',2,\"abhinav\"]\n",
        "print(x)\n",
        "type(x)"
      ],
      "execution_count": 6,
      "outputs": [
        {
          "output_type": "stream",
          "text": [
            "['a', 'b', 'c']\n",
            "['1', 2, 'abhinav']\n"
          ],
          "name": "stdout"
        },
        {
          "output_type": "execute_result",
          "data": {
            "text/plain": [
              "list"
            ]
          },
          "metadata": {
            "tags": []
          },
          "execution_count": 6
        }
      ]
    },
    {
      "cell_type": "code",
      "metadata": {
        "id": "5h7aLjCrW9mc",
        "outputId": "b2e95a06-1a4f-41fc-bd70-a11b462a2243"
      },
      "source": [
        "l = ['a',6]\n",
        "l"
      ],
      "execution_count": null,
      "outputs": [
        {
          "output_type": "execute_result",
          "data": {
            "text/plain": [
              "['a', 6]"
            ]
          },
          "metadata": {
            "tags": []
          },
          "execution_count": 55
        }
      ]
    },
    {
      "cell_type": "code",
      "metadata": {
        "id": "76OF29tPW9md",
        "outputId": "5c58a85e-a6df-4e3a-a478-a03b83c03cba"
      },
      "source": [
        "l2 = list(l)\n",
        "l2\n"
      ],
      "execution_count": null,
      "outputs": [
        {
          "output_type": "execute_result",
          "data": {
            "text/plain": [
              "[1, 56, 2, 'b', 'c']"
            ]
          },
          "metadata": {
            "tags": []
          },
          "execution_count": 61
        }
      ]
    },
    {
      "cell_type": "code",
      "metadata": {
        "colab": {
          "base_uri": "https://localhost:8080/"
        },
        "id": "h9j_0PltW9me",
        "outputId": "fa844b18-e8f2-4bca-810e-24f6cc0d1fd7"
      },
      "source": [
        "list('abcdef')\n",
        "list(\"abhinav\")"
      ],
      "execution_count": 7,
      "outputs": [
        {
          "output_type": "execute_result",
          "data": {
            "text/plain": [
              "['a', 'b', 'h', 'i', 'n', 'a', 'v']"
            ]
          },
          "metadata": {
            "tags": []
          },
          "execution_count": 7
        }
      ]
    },
    {
      "cell_type": "code",
      "metadata": {
        "colab": {
          "base_uri": "https://localhost:8080/"
        },
        "id": "Wph4SBsuW9mf",
        "outputId": "0d35d9d4-6f75-4fdc-a638-f5752b1f07ea"
      },
      "source": [
        "'''l = [1,2]\n",
        "print(l)\n",
        "l.append('b')\n",
        "print(l)\n",
        "l.append('c')\n",
        "print(l)\n",
        "l.insert(1, 56)\n",
        "l'''\n",
        "l = [3,2]\n",
        "print(l)\n",
        "l.append(4)\n",
        "print(l)\n",
        "l.append('r')\n",
        "print(l)\n",
        "l.append('o')\n",
        "print(l)\n",
        "l.insert(0,10)\n",
        "l"
      ],
      "execution_count": 3,
      "outputs": [
        {
          "output_type": "stream",
          "text": [
            "[3, 2]\n",
            "[3, 2, 4]\n",
            "[3, 2, 4, 'r']\n",
            "[3, 2, 4, 'r', 'o']\n"
          ],
          "name": "stdout"
        },
        {
          "output_type": "execute_result",
          "data": {
            "text/plain": [
              "[10, 3, 2, 4, 'r', 'o']"
            ]
          },
          "metadata": {
            "tags": []
          },
          "execution_count": 3
        }
      ]
    },
    {
      "cell_type": "code",
      "metadata": {
        "colab": {
          "base_uri": "https://localhost:8080/"
        },
        "id": "qj5Ba986W9mg",
        "outputId": "253ada62-362c-433e-9dfb-a93732025096"
      },
      "source": [
        "\n",
        "for i in l:\n",
        "    print(i)\n",
        "l.append(\"Abhinav\")\n",
        "l.insert(1,\"kumar\")\n",
        "for i in l:\n",
        "    print(i)"
      ],
      "execution_count": 4,
      "outputs": [
        {
          "output_type": "stream",
          "text": [
            "10\n",
            "3\n",
            "2\n",
            "4\n",
            "r\n",
            "o\n",
            "10\n",
            "kumar\n",
            "3\n",
            "2\n",
            "4\n",
            "r\n",
            "o\n",
            "Abhinav\n"
          ],
          "name": "stdout"
        }
      ]
    },
    {
      "cell_type": "code",
      "metadata": {
        "id": "t1vJ4GITW9mh",
        "outputId": "dd8039e0-b165-41fa-8e79-0ba4438743ca"
      },
      "source": [
        "'''# List of numbers\n",
        "numbers = [6, 5, 3, 8, 4, 2, 5, 4,9]\n",
        "\n",
        "# variable to store the sum\n",
        "sum = 0\n",
        "\n",
        "# iterate over the list\n",
        "for i in numbers:\n",
        "    sum = sum + i\n",
        "\n",
        "# Output: The sum is 48\n",
        "print(\"The sum is\", sum)\n",
        "sum'''\n",
        "\n",
        "x = [6,3,2,1,0,4,6,8,10,6]\n",
        "sum=0\n",
        "for i in x:\n",
        "    sum=sum+i\n",
        "\n",
        "print(\"Sum=\",sum)\n",
        "sum"
      ],
      "execution_count": null,
      "outputs": [
        {
          "output_type": "stream",
          "text": [
            "Sum= 46\n"
          ],
          "name": "stdout"
        },
        {
          "output_type": "execute_result",
          "data": {
            "text/plain": [
              "46"
            ]
          },
          "metadata": {
            "tags": []
          },
          "execution_count": 67
        }
      ]
    },
    {
      "cell_type": "code",
      "metadata": {
        "id": "Was3ccMnW9mj",
        "outputId": "0b30ce0d-a2bf-48c2-d7f0-86bd8a5ac656"
      },
      "source": [
        "'''digits = [0, 1, 5]\n",
        "\n",
        "for i in digits:\n",
        "    print(i)\n",
        "else:\n",
        "    print(\"No items left.\")'''\n",
        "x = [10,5,11]\n",
        "for i in x:\n",
        "    print(i)\n",
        "else:\n",
        "    print(\"No item left.\")\n"
      ],
      "execution_count": null,
      "outputs": [
        {
          "output_type": "stream",
          "text": [
            "10\n",
            "5\n",
            "11\n",
            "No item left.\n"
          ],
          "name": "stdout"
        }
      ]
    },
    {
      "cell_type": "code",
      "metadata": {
        "id": "-GFS6sc4W9mk",
        "outputId": "a4fa2f92-14d4-4dd1-d41d-bf56282ccab4"
      },
      "source": [
        "n = int(input(\"Enter n: \"))\n",
        "\n",
        "\n",
        "sum = 0\n",
        "i = 1\n",
        "\n",
        "while i <= n:\n",
        "    sum = sum + i\n",
        "    i = i+1    # update counter\n",
        "\n",
        "\n",
        "print(\"The sum is\", sum)\n",
        "x = int(input(\"enter x \"))\n",
        "z=0\n",
        "sum=0\n",
        "while z<x:\n",
        "    sum=sum+z\n",
        "    z=z+1\n",
        "print(z)"
      ],
      "execution_count": null,
      "outputs": [
        {
          "output_type": "stream",
          "text": [
            "Enter n: 10\n",
            "The sum is 55\n",
            "enter x 5\n",
            "5\n"
          ],
          "name": "stdout"
        }
      ]
    },
    {
      "cell_type": "code",
      "metadata": {
        "id": "KfKhSruFW9ml",
        "outputId": "bcf3ff20-9abc-4fa5-d60d-2b89cfb28b3c"
      },
      "source": [
        "print(range(10))\n",
        "print(range(20))"
      ],
      "execution_count": null,
      "outputs": [
        {
          "output_type": "stream",
          "text": [
            "range(0, 10)\n",
            "range(0, 20)\n"
          ],
          "name": "stdout"
        }
      ]
    },
    {
      "cell_type": "code",
      "metadata": {
        "id": "73R17me7W9mm",
        "outputId": "e0aafa51-72b4-4a2a-ec81-2fa4a3c3589d"
      },
      "source": [
        "print(list(range(10)))\n",
        "print(list(range(20)))"
      ],
      "execution_count": null,
      "outputs": [
        {
          "output_type": "stream",
          "text": [
            "[0, 1, 2, 3, 4, 5, 6, 7, 8, 9]\n",
            "[0, 1, 2, 3, 4, 5, 6, 7, 8, 9, 10, 11, 12, 13, 14, 15, 16, 17, 18, 19]\n"
          ],
          "name": "stdout"
        }
      ]
    },
    {
      "cell_type": "code",
      "metadata": {
        "id": "ZiXUSnP5W9mn",
        "outputId": "95d24926-5e7f-4841-dc8a-c701f5bdd94f"
      },
      "source": [
        "print(list(range(2, 8)))\n",
        "print(list(range(9,11)))"
      ],
      "execution_count": null,
      "outputs": [
        {
          "output_type": "stream",
          "text": [
            "[2, 3, 4, 5, 6, 7]\n",
            "[9, 10]\n"
          ],
          "name": "stdout"
        }
      ]
    },
    {
      "cell_type": "code",
      "metadata": {
        "id": "au5m4tM4W9mo",
        "outputId": "eef8b246-a72a-41d8-d9d3-cb8b0ac736e7"
      },
      "source": [
        "print(list(range(2, 20, 5)))\n",
        "\n",
        "print(list(range(10,100,5)))"
      ],
      "execution_count": null,
      "outputs": [
        {
          "output_type": "stream",
          "text": [
            "[2, 7, 12, 17]\n",
            "[10, 15, 20, 25, 30, 35, 40, 45, 50, 55, 60, 65, 70, 75, 80, 85, 90, 95]\n"
          ],
          "name": "stdout"
        }
      ]
    },
    {
      "cell_type": "code",
      "metadata": {
        "id": "9mFZFhkKW9mp",
        "outputId": "6fc858f7-14af-48b1-ee89-3d6f507c9295"
      },
      "source": [
        "genre = ['pop', 'rock', 'jazz','sapna']\n",
        "\n",
        "\n",
        "for i in range(len(genre)):\n",
        "    print(\"I like\", genre[i])\n",
        "\n",
        "\n",
        "ro = ['k','u','m','a','r']\n",
        "\n",
        "for i in range(len(ro)):\n",
        "    print(\"i like\",ro[i])"
      ],
      "execution_count": null,
      "outputs": [
        {
          "output_type": "stream",
          "text": [
            "I like pop\n",
            "I like rock\n",
            "I like jazz\n",
            "I like sapna\n",
            "i like k\n",
            "i like u\n",
            "i like m\n",
            "i like a\n",
            "i like r\n"
          ],
          "name": "stdout"
        }
      ]
    },
    {
      "cell_type": "code",
      "metadata": {
        "id": "kr2jhzLkW9mq",
        "outputId": "f5b375b6-2245-4f57-fd23-edffcaf26e8e"
      },
      "source": [
        "for val in \"HARSHITHA\":\n",
        "    if val == \"I\":\n",
        "        break\n",
        "    print(val)\n",
        "\n",
        "print(\"The end\")\n",
        "\n",
        "x = ['r',1 ,3]\n",
        "for val in x:\n",
        "    if val == 1:\n",
        "        break\n",
        "    print(val)"
      ],
      "execution_count": null,
      "outputs": [
        {
          "output_type": "stream",
          "text": [
            "H\n",
            "A\n",
            "R\n",
            "S\n",
            "H\n",
            "The end\n",
            "r\n"
          ],
          "name": "stdout"
        }
      ]
    },
    {
      "cell_type": "code",
      "metadata": {
        "id": "UxC0W1uKW9mr",
        "outputId": "6df8c6ce-e4b0-4e14-94da-da53fd4f6be5"
      },
      "source": [
        "for val in \"HARSHITHA\":\n",
        "    if val == \"I\":\n",
        "        continue\n",
        "    print(val)\n",
        "\n",
        "print(\"The end\")\n",
        "x = ['r',1 ,3]\n",
        "for val in x:\n",
        "    if val == 1:\n",
        "        continue\n",
        "    print(val)"
      ],
      "execution_count": null,
      "outputs": [
        {
          "output_type": "stream",
          "text": [
            "H\n",
            "A\n",
            "R\n",
            "S\n",
            "H\n",
            "T\n",
            "H\n",
            "A\n",
            "The end\n",
            "r\n",
            "3\n"
          ],
          "name": "stdout"
        }
      ]
    },
    {
      "cell_type": "code",
      "metadata": {
        "id": "jnQU7MmaW9ms",
        "outputId": "864877d4-83a4-4508-fa7c-160a8eb2de5d"
      },
      "source": [
        "name = input(\"What is your name?\\n \")\n",
        "type(name)\n",
        "x=input(\"hello world \\n\")\n",
        "print(x)\n",
        "type(x)"
      ],
      "execution_count": null,
      "outputs": [
        {
          "output_type": "stream",
          "text": [
            "What is your name?\n",
            " 10\n",
            "hello world \n",
            "5\n",
            "5\n"
          ],
          "name": "stdout"
        },
        {
          "output_type": "execute_result",
          "data": {
            "text/plain": [
              "str"
            ]
          },
          "metadata": {
            "tags": []
          },
          "execution_count": 95
        }
      ]
    },
    {
      "cell_type": "code",
      "metadata": {
        "id": "8qzBQ102W9mt",
        "outputId": "d8db2a53-3645-482a-9773-2be4f6b76acd"
      },
      "source": [
        "age = int(input(\"What is your age? \"))\n",
        "print (\"Your age is: \", age)\n",
        "type(age)"
      ],
      "execution_count": null,
      "outputs": [
        {
          "output_type": "stream",
          "text": [
            "What is your age? 21\n",
            "Your age is:  21\n"
          ],
          "name": "stdout"
        },
        {
          "output_type": "execute_result",
          "data": {
            "text/plain": [
              "int"
            ]
          },
          "metadata": {
            "tags": []
          },
          "execution_count": 96
        }
      ]
    },
    {
      "cell_type": "code",
      "metadata": {
        "colab": {
          "base_uri": "https://localhost:8080/"
        },
        "id": "du39-dx6W9mu",
        "outputId": "145d5e5d-226a-445e-b7b1-5449c5c4622b"
      },
      "source": [
        "name = input(\"What is your name? \")\n",
        "print (\" It was nice talking you \" + name + \"!\")\n",
        "age = input(\"Enter your age? \")\n",
        "print(\"Hey, you are already \" + age + \" years old, \" + name + \"!\")\n"
      ],
      "execution_count": 8,
      "outputs": [
        {
          "output_type": "stream",
          "text": [
            "What is your name? abhinav\n",
            " It was nice talking you abhinav!\n",
            "Enter your age? 21\n",
            "Hey, you are already 21 years old, abhinav!\n"
          ],
          "name": "stdout"
        }
      ]
    },
    {
      "cell_type": "code",
      "metadata": {
        "id": "o9VTF_e3W9mv",
        "outputId": "8e0b2deb-445c-4e76-d615-9c9c6d713669"
      },
      "source": [
        "x = int(input(\"tell me your age\"))\n",
        "\n",
        "if x < 18 :\n",
        "    print(\"You are below required age i.e\"+ x)\n",
        "elif x >= 18 :\n",
        "    print(\"Congrats Now your are elgible to vote\")\n",
        "    "
      ],
      "execution_count": null,
      "outputs": [
        {
          "output_type": "stream",
          "text": [
            "tell me your age10\n"
          ],
          "name": "stdout"
        },
        {
          "output_type": "error",
          "ename": "TypeError",
          "evalue": "can only concatenate str (not \"int\") to str",
          "traceback": [
            "\u001b[1;31m---------------------------------------------------------------------------\u001b[0m",
            "\u001b[1;31mTypeError\u001b[0m                                 Traceback (most recent call last)",
            "\u001b[1;32m<ipython-input-105-2a0e43c65459>\u001b[0m in \u001b[0;36m<module>\u001b[1;34m\u001b[0m\n\u001b[0;32m      2\u001b[0m \u001b[1;31m#print(\" You are just \" + x + \"!\")\u001b[0m\u001b[1;33m\u001b[0m\u001b[1;33m\u001b[0m\u001b[1;33m\u001b[0m\u001b[0m\n\u001b[0;32m      3\u001b[0m \u001b[1;32mif\u001b[0m \u001b[0mx\u001b[0m \u001b[1;33m<\u001b[0m \u001b[1;36m18\u001b[0m \u001b[1;33m:\u001b[0m\u001b[1;33m\u001b[0m\u001b[1;33m\u001b[0m\u001b[0m\n\u001b[1;32m----> 4\u001b[1;33m     \u001b[0mprint\u001b[0m\u001b[1;33m(\u001b[0m\u001b[1;34m\"You are below required age i.e\"\u001b[0m\u001b[1;33m+\u001b[0m \u001b[0mx\u001b[0m\u001b[1;33m)\u001b[0m\u001b[1;33m\u001b[0m\u001b[1;33m\u001b[0m\u001b[0m\n\u001b[0m\u001b[0;32m      5\u001b[0m \u001b[1;32melif\u001b[0m \u001b[0mx\u001b[0m \u001b[1;33m>=\u001b[0m \u001b[1;36m18\u001b[0m \u001b[1;33m:\u001b[0m\u001b[1;33m\u001b[0m\u001b[1;33m\u001b[0m\u001b[0m\n\u001b[0;32m      6\u001b[0m     \u001b[0mprint\u001b[0m\u001b[1;33m(\u001b[0m\u001b[1;34m\"Congrats Now your are elgible to vote\"\u001b[0m\u001b[1;33m)\u001b[0m\u001b[1;33m\u001b[0m\u001b[1;33m\u001b[0m\u001b[0m\n",
            "\u001b[1;31mTypeError\u001b[0m: can only concatenate str (not \"int\") to str"
          ]
        }
      ]
    },
    {
      "cell_type": "code",
      "metadata": {
        "id": "l0vpzjkCW9mx"
      },
      "source": [
        ""
      ],
      "execution_count": null,
      "outputs": []
    }
  ]
}